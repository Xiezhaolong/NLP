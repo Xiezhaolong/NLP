{
 "cells": [
  {
   "cell_type": "code",
   "execution_count": 8,
   "metadata": {},
   "outputs": [],
   "source": [
    "coordination_source = \"\"\"\n",
    "{name:'兰州', geoCoord:[103.73, 36.03]},\n",
    "{name:'嘉峪关', geoCoord:[98.17, 39.47]},\n",
    "{name:'西宁', geoCoord:[101.74, 36.56]},\n",
    "{name:'成都', geoCoord:[104.06, 30.67]},\n",
    "{name:'石家庄', geoCoord:[114.48, 38.03]},\n",
    "{name:'拉萨', geoCoord:[102.73, 25.04]},\n",
    "{name:'贵阳', geoCoord:[106.71, 26.57]},\n",
    "{name:'武汉', geoCoord:[114.31, 30.52]},\n",
    "{name:'郑州', geoCoord:[113.65, 34.76]},\n",
    "{name:'济南', geoCoord:[117, 36.65]},\n",
    "{name:'南京', geoCoord:[118.78, 32.04]},\n",
    "{name:'合肥', geoCoord:[117.27, 31.86]},\n",
    "{name:'杭州', geoCoord:[120.19, 30.26]},\n",
    "{name:'南昌', geoCoord:[115.89, 28.68]},\n",
    "{name:'福州', geoCoord:[119.3, 26.08]},\n",
    "{name:'广州', geoCoord:[113.23, 23.16]},\n",
    "{name:'长沙', geoCoord:[113, 28.21]},\n",
    "//{name:'海口', geoCoord:[110.35, 20.02]},\n",
    "{name:'沈阳', geoCoord:[123.38, 41.8]},\n",
    "{name:'长春', geoCoord:[125.35, 43.88]},\n",
    "{name:'哈尔滨', geoCoord:[126.63, 45.75]},\n",
    "{name:'太原', geoCoord:[112.53, 37.87]},\n",
    "{name:'西安', geoCoord:[108.95, 34.27]},\n",
    "//{name:'台湾', geoCoord:[121.30, 25.03]},\n",
    "{name:'北京', geoCoord:[116.46, 39.92]},\n",
    "{name:'上海', geoCoord:[121.48, 31.22]},\n",
    "{name:'重庆', geoCoord:[106.54, 29.59]},\n",
    "{name:'天津', geoCoord:[117.2, 39.13]},\n",
    "{name:'呼和浩特', geoCoord:[111.65, 40.82]},\n",
    "{name:'南宁', geoCoord:[108.33, 22.84]},\n",
    "//{name:'西藏', geoCoord:[91.11, 29.97]},\n",
    "{name:'银川', geoCoord:[106.27, 38.47]},\n",
    "{name:'乌鲁木齐', geoCoord:[87.68, 43.77]},\n",
    "{name:'香港', geoCoord:[114.17, 22.28]},\n",
    "{name:'澳门', geoCoord:[113.54, 22.19]}\n",
    "\"\"\""
   ]
  },
  {
   "cell_type": "code",
   "execution_count": 9,
   "metadata": {},
   "outputs": [],
   "source": [
    "import re"
   ]
  },
  {
   "cell_type": "code",
   "execution_count": 10,
   "metadata": {},
   "outputs": [],
   "source": [
    "def get_city_info(city_coordination):\n",
    "    city_location={}\n",
    "    for line in city_coordination.split(\"\\n\"):\n",
    "        if line.startswith(\"//\"):continue\n",
    "        if line.strip()=='':continue\n",
    "        city = re.findall(\"name:'(\\w+)'\",line)[0]\n",
    "        x_y=re.findall(\"Coord:\\[(\\d+.\\d+),\\s(\\d+.\\d+)]\",line)[0]\n",
    "        x_y=tuple(map(float,x_y))\n",
    "        city_location[city]=x_y\n",
    "    return city_location\n",
    "        \n",
    "                "
   ]
  },
  {
   "cell_type": "code",
   "execution_count": 11,
   "metadata": {},
   "outputs": [
    {
     "data": {
      "text/plain": [
       "{'兰州': (103.73, 36.03),\n",
       " '嘉峪关': (98.17, 39.47),\n",
       " '西宁': (101.74, 36.56),\n",
       " '成都': (104.06, 30.67),\n",
       " '石家庄': (114.48, 38.03),\n",
       " '拉萨': (102.73, 25.04),\n",
       " '贵阳': (106.71, 26.57),\n",
       " '武汉': (114.31, 30.52),\n",
       " '郑州': (113.65, 34.76),\n",
       " '济南': (117.0, 36.65),\n",
       " '南京': (118.78, 32.04),\n",
       " '合肥': (117.27, 31.86),\n",
       " '杭州': (120.19, 30.26),\n",
       " '南昌': (115.89, 28.68),\n",
       " '福州': (119.3, 26.08),\n",
       " '广州': (113.23, 23.16),\n",
       " '长沙': (113.0, 28.21),\n",
       " '沈阳': (123.38, 41.8),\n",
       " '长春': (125.35, 43.88),\n",
       " '哈尔滨': (126.63, 45.75),\n",
       " '太原': (112.53, 37.87),\n",
       " '西安': (108.95, 34.27),\n",
       " '北京': (116.46, 39.92),\n",
       " '上海': (121.48, 31.22),\n",
       " '重庆': (106.54, 29.59),\n",
       " '天津': (117.2, 39.13),\n",
       " '呼和浩特': (111.65, 40.82),\n",
       " '南宁': (108.33, 22.84),\n",
       " '银川': (106.27, 38.47),\n",
       " '乌鲁木齐': (87.68, 43.77),\n",
       " '香港': (114.17, 22.28),\n",
       " '澳门': (113.54, 22.19)}"
      ]
     },
     "execution_count": 11,
     "metadata": {},
     "output_type": "execute_result"
    }
   ],
   "source": [
    "city_info=get_city_info(coordination_source)\n",
    "city_info"
   ]
  },
  {
   "cell_type": "code",
   "execution_count": 12,
   "metadata": {},
   "outputs": [],
   "source": [
    "import math\n",
    "def geo_distance(origin,destination):\n",
    "    lat1,lon1 = origin\n",
    "    lat2,lon2 = destination\n",
    "    radius=6371\n",
    "    dlat = math.radians(lat2 - lat1)\n",
    "    dlon = math.radians(lon2 - lon1) \n",
    "    a = (math.sin(dlat / 2) * math.sin(dlat / 2) + math.cos(math.radians(lat1)) * math.cos(math.radians(lat2)) * math.sin(dlon / 2) * math.sin(dlon / 2))\n",
    "    c = 2 * math.atan2(math.sqrt(a),math.sqrt(1 - a))\n",
    "    d = radius * c\n",
    "    return d"
   ]
  },
  {
   "cell_type": "code",
   "execution_count": 17,
   "metadata": {},
   "outputs": [
    {
     "data": {
      "text/plain": [
       "153.5185697155768"
      ]
     },
     "execution_count": 17,
     "metadata": {},
     "output_type": "execute_result"
    }
   ],
   "source": [
    "def get_city_distance(city1,city2):\n",
    "    return geo_distance(city_info[city1],city_info[city2])\n",
    "get_city_distance('上海','杭州')"
   ]
  },
  {
   "cell_type": "code",
   "execution_count": 40,
   "metadata": {},
   "outputs": [],
   "source": [
    "%matplotlib inline\n",
    "import networkx as nx\n",
    "import matplotlib.pyplot as plt\n",
    "\n",
    "\n",
    "#plt.rcParams['font.sans-serif'] = ['SimHei']\n",
    "#plt.rcParams['axes.unicode_minus'] = False"
   ]
  },
  {
   "cell_type": "code",
   "execution_count": 41,
   "metadata": {},
   "outputs": [
    {
     "data": {
      "text/plain": [
       "dict_keys(['兰州', '嘉峪关', '西宁', '成都', '石家庄', '拉萨', '贵阳', '武汉', '郑州', '济南', '南京', '合肥', '杭州', '南昌', '福州', '广州', '长沙', '沈阳', '长春', '哈尔滨', '太原', '西安', '北京', '上海', '重庆', '天津', '呼和浩特', '南宁', '银川', '乌鲁木齐', '香港', '澳门'])"
      ]
     },
     "execution_count": 41,
     "metadata": {},
     "output_type": "execute_result"
    }
   ],
   "source": [
    "city_info.keys()"
   ]
  },
  {
   "cell_type": "code",
   "execution_count": null,
   "metadata": {},
   "outputs": [],
   "source": []
  },
  {
   "cell_type": "code",
   "execution_count": 47,
   "metadata": {},
   "outputs": [],
   "source": [
    "city_graph = nx.Graph()\n",
    "\n",
    "city_graph.add_nodes_from(list(city_info.keys()))"
   ]
  },
  {
   "cell_type": "code",
   "execution_count": 54,
   "metadata": {},
   "outputs": [
    {
     "data": {
      "image/png": "[encoded data removed]",
      "text/plain": [
       "<Figure size 432x288 with 1 Axes>"
      ]
     },
     "metadata": {},
     "output_type": "display_data"
    }
   ],
   "source": [
    "nx.draw(city_graph,city_info, with_labels=True, node_size=10)"
   ]
  },
  {
   "cell_type": "code",
   "execution_count": 55,
   "metadata": {},
   "outputs": [],
   "source": [
    "threshold = 700"
   ]
  },
  {
   "cell_type": "code",
   "execution_count": 56,
   "metadata": {},
   "outputs": [],
   "source": [
    "from collections import defaultdict"
   ]
  },
  {
   "cell_type": "code",
   "execution_count": 76,
   "metadata": {},
   "outputs": [],
   "source": [
    "def bulid_connection(city_info):\n",
    "    cities_connection = defaultdict(list)\n",
    "    cities = list(city_info.keys())\n",
    "    for c1 in cities:\n",
    "        for c2 in cities:\n",
    "            if c1 == c2 : continue\n",
    "            if get_city_distance(c1,c2) < threshold:\n",
    "                cities_connection[c1].append(c2)\n",
    "                return cities_connection\n",
    "            cities_connection = build_connection(city_info)\n",
    "        "
   ]
  },
  {
   "cell_type": "code",
   "execution_count": 74,
   "metadata": {},
   "outputs": [
    {
     "data": {
      "text/plain": [
       "defaultdict(list,\n",
       "            {'兰州': ['嘉峪关', '西宁', '成都', '拉萨', '贵阳', '西安', '重庆', '南宁', '银川'],\n",
       "             '嘉峪关': ['兰州', '西宁', '成都', '拉萨'],\n",
       "             '西宁': ['兰州', '嘉峪关', '成都', '拉萨', '贵阳', '重庆', '银川'],\n",
       "             '成都': ['兰州', '嘉峪关', '西宁', '拉萨', '贵阳', '西安', '重庆', '南宁', '银川'],\n",
       "             '石家庄': ['武汉',\n",
       "              '郑州',\n",
       "              '济南',\n",
       "              '南京',\n",
       "              '合肥',\n",
       "              '南昌',\n",
       "              '广州',\n",
       "              '长沙',\n",
       "              '太原',\n",
       "              '西安',\n",
       "              '北京',\n",
       "              '天津',\n",
       "              '呼和浩特'],\n",
       "             '拉萨': ['兰州', '嘉峪关', '西宁', '成都', '贵阳', '重庆', '南宁', '银川'],\n",
       "             '贵阳': ['兰州', '西宁', '成都', '拉萨', '西安', '重庆', '南宁', '银川'],\n",
       "             '武汉': ['石家庄',\n",
       "              '郑州',\n",
       "              '济南',\n",
       "              '南京',\n",
       "              '合肥',\n",
       "              '杭州',\n",
       "              '南昌',\n",
       "              '福州',\n",
       "              '广州',\n",
       "              '长沙',\n",
       "              '太原',\n",
       "              '西安',\n",
       "              '北京',\n",
       "              '天津',\n",
       "              '呼和浩特',\n",
       "              '香港',\n",
       "              '澳门'],\n",
       "             '郑州': ['石家庄',\n",
       "              '武汉',\n",
       "              '济南',\n",
       "              '南京',\n",
       "              '合肥',\n",
       "              '南昌',\n",
       "              '广州',\n",
       "              '长沙',\n",
       "              '太原',\n",
       "              '西安',\n",
       "              '北京',\n",
       "              '天津',\n",
       "              '呼和浩特',\n",
       "              '香港',\n",
       "              '澳门'],\n",
       "             '济南': ['石家庄',\n",
       "              '武汉',\n",
       "              '郑州',\n",
       "              '南京',\n",
       "              '合肥',\n",
       "              '杭州',\n",
       "              '南昌',\n",
       "              '福州',\n",
       "              '长沙',\n",
       "              '太原',\n",
       "              '北京',\n",
       "              '上海',\n",
       "              '天津',\n",
       "              '呼和浩特'],\n",
       "             '南京': ['石家庄',\n",
       "              '武汉',\n",
       "              '郑州',\n",
       "              '济南',\n",
       "              '合肥',\n",
       "              '杭州',\n",
       "              '南昌',\n",
       "              '福州',\n",
       "              '长沙',\n",
       "              '北京',\n",
       "              '上海',\n",
       "              '天津'],\n",
       "             '合肥': ['石家庄',\n",
       "              '武汉',\n",
       "              '郑州',\n",
       "              '济南',\n",
       "              '南京',\n",
       "              '杭州',\n",
       "              '南昌',\n",
       "              '福州',\n",
       "              '广州',\n",
       "              '长沙',\n",
       "              '太原',\n",
       "              '北京',\n",
       "              '上海',\n",
       "              '天津',\n",
       "              '香港',\n",
       "              '澳门'],\n",
       "             '杭州': ['武汉', '济南', '南京', '合肥', '南昌', '福州', '北京', '上海', '天津'],\n",
       "             '南昌': ['石家庄',\n",
       "              '武汉',\n",
       "              '郑州',\n",
       "              '济南',\n",
       "              '南京',\n",
       "              '合肥',\n",
       "              '杭州',\n",
       "              '福州',\n",
       "              '广州',\n",
       "              '长沙',\n",
       "              '太原',\n",
       "              '北京',\n",
       "              '上海',\n",
       "              '天津',\n",
       "              '香港',\n",
       "              '澳门'],\n",
       "             '福州': ['武汉',\n",
       "              '济南',\n",
       "              '南京',\n",
       "              '合肥',\n",
       "              '杭州',\n",
       "              '南昌',\n",
       "              '广州',\n",
       "              '上海',\n",
       "              '香港',\n",
       "              '澳门'],\n",
       "             '广州': ['石家庄',\n",
       "              '武汉',\n",
       "              '郑州',\n",
       "              '合肥',\n",
       "              '南昌',\n",
       "              '福州',\n",
       "              '长沙',\n",
       "              '太原',\n",
       "              '西安',\n",
       "              '南宁',\n",
       "              '香港',\n",
       "              '澳门'],\n",
       "             '长沙': ['石家庄',\n",
       "              '武汉',\n",
       "              '郑州',\n",
       "              '济南',\n",
       "              '南京',\n",
       "              '合肥',\n",
       "              '南昌',\n",
       "              '广州',\n",
       "              '太原',\n",
       "              '西安',\n",
       "              '北京',\n",
       "              '天津',\n",
       "              '呼和浩特',\n",
       "              '南宁',\n",
       "              '香港',\n",
       "              '澳门'],\n",
       "             '沈阳': ['长春', '哈尔滨', '上海'],\n",
       "             '长春': ['沈阳', '哈尔滨'],\n",
       "             '哈尔滨': ['沈阳', '长春'],\n",
       "             '太原': ['石家庄',\n",
       "              '武汉',\n",
       "              '郑州',\n",
       "              '济南',\n",
       "              '合肥',\n",
       "              '南昌',\n",
       "              '广州',\n",
       "              '长沙',\n",
       "              '西安',\n",
       "              '北京',\n",
       "              '天津',\n",
       "              '呼和浩特',\n",
       "              '银川',\n",
       "              '澳门'],\n",
       "             '西安': ['兰州',\n",
       "              '成都',\n",
       "              '石家庄',\n",
       "              '贵阳',\n",
       "              '武汉',\n",
       "              '郑州',\n",
       "              '广州',\n",
       "              '长沙',\n",
       "              '太原',\n",
       "              '重庆',\n",
       "              '呼和浩特',\n",
       "              '南宁',\n",
       "              '银川'],\n",
       "             '北京': ['石家庄',\n",
       "              '武汉',\n",
       "              '郑州',\n",
       "              '济南',\n",
       "              '南京',\n",
       "              '合肥',\n",
       "              '杭州',\n",
       "              '南昌',\n",
       "              '长沙',\n",
       "              '太原',\n",
       "              '天津',\n",
       "              '呼和浩特'],\n",
       "             '上海': ['济南', '南京', '合肥', '杭州', '南昌', '福州', '沈阳', '天津'],\n",
       "             '重庆': ['兰州', '西宁', '成都', '拉萨', '贵阳', '西安', '呼和浩特', '南宁', '银川'],\n",
       "             '天津': ['石家庄',\n",
       "              '武汉',\n",
       "              '郑州',\n",
       "              '济南',\n",
       "              '南京',\n",
       "              '合肥',\n",
       "              '杭州',\n",
       "              '南昌',\n",
       "              '长沙',\n",
       "              '太原',\n",
       "              '北京',\n",
       "              '上海',\n",
       "              '呼和浩特'],\n",
       "             '呼和浩特': ['石家庄',\n",
       "              '武汉',\n",
       "              '郑州',\n",
       "              '济南',\n",
       "              '长沙',\n",
       "              '太原',\n",
       "              '西安',\n",
       "              '北京',\n",
       "              '重庆',\n",
       "              '天津',\n",
       "              '银川'],\n",
       "             '南宁': ['兰州',\n",
       "              '成都',\n",
       "              '拉萨',\n",
       "              '贵阳',\n",
       "              '广州',\n",
       "              '长沙',\n",
       "              '西安',\n",
       "              '重庆',\n",
       "              '银川',\n",
       "              '香港',\n",
       "              '澳门'],\n",
       "             '银川': ['兰州',\n",
       "              '西宁',\n",
       "              '成都',\n",
       "              '拉萨',\n",
       "              '贵阳',\n",
       "              '太原',\n",
       "              '西安',\n",
       "              '重庆',\n",
       "              '呼和浩特',\n",
       "              '南宁'],\n",
       "             '香港': ['武汉', '郑州', '合肥', '南昌', '福州', '广州', '长沙', '南宁', '澳门'],\n",
       "             '澳门': ['武汉',\n",
       "              '郑州',\n",
       "              '合肥',\n",
       "              '南昌',\n",
       "              '福州',\n",
       "              '广州',\n",
       "              '长沙',\n",
       "              '太原',\n",
       "              '南宁',\n",
       "              '香港']})"
      ]
     },
     "execution_count": 74,
     "metadata": {},
     "output_type": "execute_result"
    }
   ],
   "source": [
    "cities_connection"
   ]
  },
  {
   "cell_type": "code",
   "execution_count": 77,
   "metadata": {},
   "outputs": [],
   "source": [
    "cities_connection_graph = nx.Graph(cities_connection)"
   ]
  },
  {
   "cell_type": "code",
   "execution_count": 85,
   "metadata": {},
   "outputs": [
    {
     "data": {
      "image/png": "[encoded data removed]",
      "text/plain": [
       "<Figure size 432x288 with 1 Axes>"
      ]
     },
     "metadata": {},
     "output_type": "display_data"
    }
   ],
   "source": [
    "nx.draw(cities_connection_graph,city_info,with_labels=True,node_size=10)"
   ]
  },
  {
   "cell_type": "code",
   "execution_count": 105,
   "metadata": {},
   "outputs": [],
   "source": [
    "def bfs_search_1(graph,start,destination):\n",
    "    pathes = [[start]]\n",
    "    visited = set()\n",
    "    \n",
    "    while pathes:\n",
    "        path = pathes.pop()\n",
    "        frontier = path[-1]\n",
    "        if frontier in visited : continue\n",
    "        successors = graph[frontier]\n",
    "        for city in successors:\n",
    "            if city in path : continue\n",
    "            new_path = path + [city]\n",
    "            pathes.append(new_path)\n",
    "            if city == destination:\n",
    "                return new_path\n",
    "        visited.add(city)\n",
    "    "
   ]
  },
  {
   "cell_type": "code",
   "execution_count": 117,
   "metadata": {},
   "outputs": [
    {
     "data": {
      "text/plain": [
       "['北京', '天津', '上海', '福州', '广州']"
      ]
     },
     "execution_count": 117,
     "metadata": {},
     "output_type": "execute_result"
    }
   ],
   "source": [
    "bfs_search_1(cities_connection,'北京','广州')"
   ]
  },
  {
   "cell_type": "code",
   "execution_count": 118,
   "metadata": {},
   "outputs": [],
   "source": [
    "def dfs_search_1(graph,start,destination):\n",
    "    pathes = [[start]]\n",
    "    visited = set()\n",
    "    \n",
    "    while pathes:\n",
    "        path = pathes.pop()\n",
    "        frontier = path[-1]\n",
    "        if frontier in visited : continue\n",
    "        successors = graph[frontier]\n",
    "        for city in successors:\n",
    "            if city in path : continue\n",
    "            new_path = path + [city]\n",
    "            pathes = [new_path] + pathes\n",
    "            if city == destination:\n",
    "                return new_path\n",
    "        visited.add(city)"
   ]
  },
  {
   "cell_type": "code",
   "execution_count": 119,
   "metadata": {},
   "outputs": [
    {
     "data": {
      "text/plain": [
       "['北京', '石家庄', '广州']"
      ]
     },
     "execution_count": 119,
     "metadata": {},
     "output_type": "execute_result"
    }
   ],
   "source": [
    "dfs_search_1(cities_connection,'北京','广州')"
   ]
  },
  {
   "cell_type": "code",
   "execution_count": 151,
   "metadata": {},
   "outputs": [],
   "source": [
    "def bfs_search_2(graph,start,destination,search_strategy):\n",
    "    pathes = [[start]]\n",
    "    while pathes:\n",
    "        path = pathes.pop(0)\n",
    "        frontier = path[-1]\n",
    "        \n",
    "        successors = graph[frontier]\n",
    "        for city in successors:\n",
    "            if city in path : continue\n",
    "            new_path = path + [city]\n",
    "            pathes.append(new_path)\n",
    "        pathes = search_strategy(pathes)\n",
    "        if pathes and (pathes[0][-1] ==destination):\n",
    "            return pathes[0]\n",
    "            \n",
    "        "
   ]
  },
  {
   "cell_type": "code",
   "execution_count": 152,
   "metadata": {},
   "outputs": [],
   "source": [
    "def sorted_by_distance(pathes):\n",
    "    def get_distance_of_path(path):\n",
    "        distance = 0\n",
    "        for i,_ in enumerate(path[:-1]):\n",
    "            distance += get_city_distance(path[i],path[i+1])\n",
    "        return distance\n",
    "    return sorted(pathes,key = get_distance_of_path)\n",
    "        "
   ]
  },
  {
   "cell_type": "code",
   "execution_count": 155,
   "metadata": {},
   "outputs": [
    {
     "data": {
      "text/plain": [
       "['北京', '武汉', '广州']"
      ]
     },
     "execution_count": 155,
     "metadata": {},
     "output_type": "execute_result"
    }
   ],
   "source": [
    "bfs_search_2(cities_connection,'北京','广州',search_strategy = sorted_by_distance)"
   ]
  },
  {
   "cell_type": "code",
   "execution_count": 166,
   "metadata": {},
   "outputs": [
    {
     "data": {
      "text/plain": [
       "['上海', '天津', '北京']"
      ]
     },
     "execution_count": 166,
     "metadata": {},
     "output_type": "execute_result"
    }
   ],
   "source": [
    "bfs_search_2(cities_connection,'上海','北京',search_strategy = sorted_by_distance)"
   ]
  },
  {
   "cell_type": "markdown",
   "metadata": {},
   "source": [
    "# Machine Learning 第二部分"
   ]
  },
  {
   "cell_type": "code",
   "execution_count": 168,
   "metadata": {},
   "outputs": [],
   "source": [
    "from sklearn.datasets import load_boston\n",
    "import random"
   ]
  },
  {
   "cell_type": "code",
   "execution_count": 169,
   "metadata": {},
   "outputs": [],
   "source": [
    "dataset = load_boston()"
   ]
  },
  {
   "cell_type": "code",
   "execution_count": 172,
   "metadata": {},
   "outputs": [],
   "source": [
    "\n",
    "x,y=dataset['data'],dataset['target']"
   ]
  },
  {
   "cell_type": "code",
   "execution_count": 173,
   "metadata": {},
   "outputs": [
    {
     "data": {
      "text/plain": [
       "(506, 13)"
      ]
     },
     "execution_count": 173,
     "metadata": {},
     "output_type": "execute_result"
    }
   ],
   "source": [
    "\n",
    "x.shape"
   ]
  },
  {
   "cell_type": "code",
   "execution_count": 174,
   "metadata": {},
   "outputs": [
    {
     "data": {
      "text/plain": [
       "(506,)"
      ]
     },
     "execution_count": 174,
     "metadata": {},
     "output_type": "execute_result"
    }
   ],
   "source": [
    "y.shape"
   ]
  },
  {
   "cell_type": "code",
   "execution_count": 186,
   "metadata": {},
   "outputs": [
    {
     "data": {
      "text/plain": [
       "array([[6.3200e-03, 1.8000e+01, 2.3100e+00, ..., 1.5300e+01, 3.9690e+02,\n",
       "        4.9800e+00],\n",
       "       [2.7310e-02, 0.0000e+00, 7.0700e+00, ..., 1.7800e+01, 3.9690e+02,\n",
       "        9.1400e+00],\n",
       "       [2.7290e-02, 0.0000e+00, 7.0700e+00, ..., 1.7800e+01, 3.9283e+02,\n",
       "        4.0300e+00],\n",
       "       ...,\n",
       "       [6.0760e-02, 0.0000e+00, 1.1930e+01, ..., 2.1000e+01, 3.9690e+02,\n",
       "        5.6400e+00],\n",
       "       [1.0959e-01, 0.0000e+00, 1.1930e+01, ..., 2.1000e+01, 3.9345e+02,\n",
       "        6.4800e+00],\n",
       "       [4.7410e-02, 0.0000e+00, 1.1930e+01, ..., 2.1000e+01, 3.9690e+02,\n",
       "        7.8800e+00]])"
      ]
     },
     "execution_count": 186,
     "metadata": {},
     "output_type": "execute_result"
    }
   ],
   "source": [
    "x"
   ]
  },
  {
   "cell_type": "code",
   "execution_count": 187,
   "metadata": {},
   "outputs": [
    {
     "data": {
      "text/plain": [
       "array([24. , 21.6, 34.7, 33.4, 36.2, 28.7, 22.9, 27.1, 16.5, 18.9, 15. ,\n",
       "       18.9, 21.7, 20.4, 18.2, 19.9, 23.1, 17.5, 20.2, 18.2, 13.6, 19.6,\n",
       "       15.2, 14.5, 15.6, 13.9, 16.6, 14.8, 18.4, 21. , 12.7, 14.5, 13.2,\n",
       "       13.1, 13.5, 18.9, 20. , 21. , 24.7, 30.8, 34.9, 26.6, 25.3, 24.7,\n",
       "       21.2, 19.3, 20. , 16.6, 14.4, 19.4, 19.7, 20.5, 25. , 23.4, 18.9,\n",
       "       35.4, 24.7, 31.6, 23.3, 19.6, 18.7, 16. , 22.2, 25. , 33. , 23.5,\n",
       "       19.4, 22. , 17.4, 20.9, 24.2, 21.7, 22.8, 23.4, 24.1, 21.4, 20. ,\n",
       "       20.8, 21.2, 20.3, 28. , 23.9, 24.8, 22.9, 23.9, 26.6, 22.5, 22.2,\n",
       "       23.6, 28.7, 22.6, 22. , 22.9, 25. , 20.6, 28.4, 21.4, 38.7, 43.8,\n",
       "       33.2, 27.5, 26.5, 18.6, 19.3, 20.1, 19.5, 19.5, 20.4, 19.8, 19.4,\n",
       "       21.7, 22.8, 18.8, 18.7, 18.5, 18.3, 21.2, 19.2, 20.4, 19.3, 22. ,\n",
       "       20.3, 20.5, 17.3, 18.8, 21.4, 15.7, 16.2, 18. , 14.3, 19.2, 19.6,\n",
       "       23. , 18.4, 15.6, 18.1, 17.4, 17.1, 13.3, 17.8, 14. , 14.4, 13.4,\n",
       "       15.6, 11.8, 13.8, 15.6, 14.6, 17.8, 15.4, 21.5, 19.6, 15.3, 19.4,\n",
       "       17. , 15.6, 13.1, 41.3, 24.3, 23.3, 27. , 50. , 50. , 50. , 22.7,\n",
       "       25. , 50. , 23.8, 23.8, 22.3, 17.4, 19.1, 23.1, 23.6, 22.6, 29.4,\n",
       "       23.2, 24.6, 29.9, 37.2, 39.8, 36.2, 37.9, 32.5, 26.4, 29.6, 50. ,\n",
       "       32. , 29.8, 34.9, 37. , 30.5, 36.4, 31.1, 29.1, 50. , 33.3, 30.3,\n",
       "       34.6, 34.9, 32.9, 24.1, 42.3, 48.5, 50. , 22.6, 24.4, 22.5, 24.4,\n",
       "       20. , 21.7, 19.3, 22.4, 28.1, 23.7, 25. , 23.3, 28.7, 21.5, 23. ,\n",
       "       26.7, 21.7, 27.5, 30.1, 44.8, 50. , 37.6, 31.6, 46.7, 31.5, 24.3,\n",
       "       31.7, 41.7, 48.3, 29. , 24. , 25.1, 31.5, 23.7, 23.3, 22. , 20.1,\n",
       "       22.2, 23.7, 17.6, 18.5, 24.3, 20.5, 24.5, 26.2, 24.4, 24.8, 29.6,\n",
       "       42.8, 21.9, 20.9, 44. , 50. , 36. , 30.1, 33.8, 43.1, 48.8, 31. ,\n",
       "       36.5, 22.8, 30.7, 50. , 43.5, 20.7, 21.1, 25.2, 24.4, 35.2, 32.4,\n",
       "       32. , 33.2, 33.1, 29.1, 35.1, 45.4, 35.4, 46. , 50. , 32.2, 22. ,\n",
       "       20.1, 23.2, 22.3, 24.8, 28.5, 37.3, 27.9, 23.9, 21.7, 28.6, 27.1,\n",
       "       20.3, 22.5, 29. , 24.8, 22. , 26.4, 33.1, 36.1, 28.4, 33.4, 28.2,\n",
       "       22.8, 20.3, 16.1, 22.1, 19.4, 21.6, 23.8, 16.2, 17.8, 19.8, 23.1,\n",
       "       21. , 23.8, 23.1, 20.4, 18.5, 25. , 24.6, 23. , 22.2, 19.3, 22.6,\n",
       "       19.8, 17.1, 19.4, 22.2, 20.7, 21.1, 19.5, 18.5, 20.6, 19. , 18.7,\n",
       "       32.7, 16.5, 23.9, 31.2, 17.5, 17.2, 23.1, 24.5, 26.6, 22.9, 24.1,\n",
       "       18.6, 30.1, 18.2, 20.6, 17.8, 21.7, 22.7, 22.6, 25. , 19.9, 20.8,\n",
       "       16.8, 21.9, 27.5, 21.9, 23.1, 50. , 50. , 50. , 50. , 50. , 13.8,\n",
       "       13.8, 15. , 13.9, 13.3, 13.1, 10.2, 10.4, 10.9, 11.3, 12.3,  8.8,\n",
       "        7.2, 10.5,  7.4, 10.2, 11.5, 15.1, 23.2,  9.7, 13.8, 12.7, 13.1,\n",
       "       12.5,  8.5,  5. ,  6.3,  5.6,  7.2, 12.1,  8.3,  8.5,  5. , 11.9,\n",
       "       27.9, 17.2, 27.5, 15. , 17.2, 17.9, 16.3,  7. ,  7.2,  7.5, 10.4,\n",
       "        8.8,  8.4, 16.7, 14.2, 20.8, 13.4, 11.7,  8.3, 10.2, 10.9, 11. ,\n",
       "        9.5, 14.5, 14.1, 16.1, 14.3, 11.7, 13.4,  9.6,  8.7,  8.4, 12.8,\n",
       "       10.5, 17.1, 18.4, 15.4, 10.8, 11.8, 14.9, 12.6, 14.1, 13. , 13.4,\n",
       "       15.2, 16.1, 17.8, 14.9, 14.1, 12.7, 13.5, 14.9, 20. , 16.4, 17.7,\n",
       "       19.5, 20.2, 21.4, 19.9, 19. , 19.1, 19.1, 20.1, 19.9, 19.6, 23.2,\n",
       "       29.8, 13.8, 13.3, 16.7, 12. , 14.6, 21.4, 23. , 23.7, 25. , 21.8,\n",
       "       20.6, 21.2, 19.1, 20.6, 15.2,  7. ,  8.1, 13.6, 20.1, 21.8, 24.5,\n",
       "       23.1, 19.7, 18.3, 21.2, 17.5, 16.8, 22.4, 20.6, 23.9, 22. , 11.9])"
      ]
     },
     "execution_count": 187,
     "metadata": {},
     "output_type": "execute_result"
    }
   ],
   "source": [
    "y"
   ]
  },
  {
   "cell_type": "code",
   "execution_count": 188,
   "metadata": {},
   "outputs": [
    {
     "data": {
      "text/plain": [
       "array(['CRIM', 'ZN', 'INDUS', 'CHAS', 'NOX', 'RM', 'AGE', 'DIS', 'RAD',\n",
       "       'TAX', 'PTRATIO', 'B', 'LSTAT'], dtype='<U7')"
      ]
     },
     "execution_count": 188,
     "metadata": {},
     "output_type": "execute_result"
    }
   ],
   "source": [
    "\n",
    "dataset.feature_names"
   ]
  },
  {
   "cell_type": "code",
   "execution_count": 189,
   "metadata": {},
   "outputs": [
    {
     "data": {
      "text/plain": [
       "\".. _boston_dataset:\\n\\nBoston house prices dataset\\n---------------------------\\n\\n**Data Set Characteristics:**  \\n\\n    :Number of Instances: 506 \\n\\n    :Number of Attributes: 13 numeric/categorical predictive. Median Value (attribute 14) is usually the target.\\n\\n    :Attribute Information (in order):\\n        - CRIM     per capita crime rate by town\\n        - ZN       proportion of residential land zoned for lots over 25,000 sq.ft.\\n        - INDUS    proportion of non-retail business acres per town\\n        - CHAS     Charles River dummy variable (= 1 if tract bounds river; 0 otherwise)\\n        - NOX      nitric oxides concentration (parts per 10 million)\\n        - RM       average number of rooms per dwelling\\n        - AGE      proportion of owner-occupied units built prior to 1940\\n        - DIS      weighted distances to five Boston employment centres\\n        - RAD      index of accessibility to radial highways\\n        - TAX      full-value property-tax rate per $10,000\\n        - PTRATIO  pupil-teacher ratio by town\\n        - B        1000(Bk - 0.63)^2 where Bk is the proportion of blacks by town\\n        - LSTAT    % lower status of the population\\n        - MEDV     Median value of owner-occupied homes in $1000's\\n\\n    :Missing Attribute Values: None\\n\\n    :Creator: Harrison, D. and Rubinfeld, D.L.\\n\\nThis is a copy of UCI ML housing dataset.\\nhttps://archive.ics.uci.edu/ml/machine-learning-databases/housing/\\n\\n\\nThis dataset was taken from the StatLib library which is maintained at Carnegie Mellon University.\\n\\nThe Boston house-price data of Harrison, D. and Rubinfeld, D.L. 'Hedonic\\nprices and the demand for clean air', J. Environ. Economics & Management,\\nvol.5, 81-102, 1978.   Used in Belsley, Kuh & Welsch, 'Regression diagnostics\\n...', Wiley, 1980.   N.B. Various transformations are used in the table on\\npages 244-261 of the latter.\\n\\nThe Boston house-price data has been used in many machine learning papers that address regression\\nproblems.   \\n     \\n.. topic:: References\\n\\n   - Belsley, Kuh & Welsch, 'Regression diagnostics: Identifying Influential Data and Sources of Collinearity', Wiley, 1980. 244-261.\\n   - Quinlan,R. (1993). Combining Instance-Based and Model-Based Learning. In Proceedings on the Tenth International Conference of Machine Learning, 236-243, University of Massachusetts, Amherst. Morgan Kaufmann.\\n\""
      ]
     },
     "execution_count": 189,
     "metadata": {},
     "output_type": "execute_result"
    }
   ],
   "source": [
    "\n",
    "dataset['DESCR']"
   ]
  },
  {
   "cell_type": "code",
   "execution_count": 190,
   "metadata": {},
   "outputs": [],
   "source": [
    "X_rm = x[:,5]"
   ]
  },
  {
   "cell_type": "code",
   "execution_count": 191,
   "metadata": {},
   "outputs": [
    {
     "data": {
      "text/plain": [
       "<matplotlib.collections.PathCollection at 0x276209a0a08>"
      ]
     },
     "execution_count": 191,
     "metadata": {},
     "output_type": "execute_result"
    },
    {
     "data": {
      "image/png": "[encoded data removed]",
      "text/plain": [
       "<Figure size 432x288 with 1 Axes>"
      ]
     },
     "metadata": {
      "needs_background": "light"
     },
     "output_type": "display_data"
    }
   ],
   "source": [
    "plt.scatter(X_rm,y)"
   ]
  },
  {
   "cell_type": "code",
   "execution_count": 192,
   "metadata": {},
   "outputs": [],
   "source": [
    "def price(rm, k, b):\n",
    "    return k * rm + b"
   ]
  },
  {
   "cell_type": "code",
   "execution_count": 193,
   "metadata": {},
   "outputs": [],
   "source": [
    "def loss(y,y_hat):\n",
    "    return sum((y_i - y_hat_i)**2 for y_i, y_hat_i in zip(list(y),list(y_hat)))/len(list(y))"
   ]
  },
  {
   "cell_type": "code",
   "execution_count": 194,
   "metadata": {},
   "outputs": [],
   "source": [
    "def partial_derivative_k(x, y, y_hat):\n",
    "    n = len(y)\n",
    "    gradient = 0\n",
    "    for x_i, y_i, y_hat_i in zip(list(x),list(y),list(y_hat)):\n",
    "        gradient += (y_i-y_hat_i) * x_i\n",
    "    return -2/n * gradient\n",
    "\n",
    "def partial_derivative_b(y, y_hat):\n",
    "    n = len(y)\n",
    "    gradient = 0\n",
    "    for y_i, y_hat_i in zip(list(y),list(y_hat)):\n",
    "        gradient += (y_i-y_hat_i)\n",
    "    return -2 / n * gradient"
   ]
  },
  {
   "cell_type": "code",
   "execution_count": 195,
   "metadata": {},
   "outputs": [
    {
     "name": "stdout",
     "output_type": "stream",
     "text": [
      "Iteration 0, the loss is 39383.6996432047, parameters k is -35.42490324480383 and b is 49.29997236872313\n",
      "Iteration 1, the loss is 33214.984561444915, parameters k is -32.919141908576144 and b is 49.691703166835715\n",
      "Iteration 2, the loss is 28015.94539907637, parameters k is -30.618711748920404 and b is 50.05115491563177\n",
      "Iteration 3, the loss is 23634.156231479683, parameters k is -28.50678493164957 and b is 50.38097303595608\n",
      "Iteration 4, the loss is 19941.151368621897, parameters k is -26.567912741029424 and b is 50.68358614424096\n",
      "Iteration 5, the loss is 16828.658982355348, parameters k is -24.78791255467471 and b is 50.96122382062557\n",
      "Iteration 6, the loss is 14205.426779811458, parameters k is -23.153764081372632 and b is 51.215932920896094\n",
      "Iteration 7, the loss is 11994.546657597066, parameters k is -21.653514102694285 and b is 51.44959255158737\n",
      "Iteration 8, the loss is 10131.199900679241, parameters k is -20.27618902146936 and b is 51.66392781780602\n",
      "Iteration 9, the loss is 8560.756819426455, parameters k is -19.011714577315818 and b is 51.86052244435617\n",
      "Iteration 10, the loss is 7237.175109733832, parameters k is -17.85084214185137 and b is 52.040830362505915\n",
      "Iteration 11, the loss is 6121.649979159981, parameters k is -16.78508105435156 and b is 52.20618634716486\n",
      "Iteration 12, the loss is 5181.4764633098, parameters k is -15.806636502812067 and b is 52.35781578229608\n",
      "Iteration 13, the loss is 4389.090577716701, parameters k is -14.908352495943802 and b is 52.496843626007596\n",
      "Iteration 14, the loss is 3721.2611935985774, parameters k is -14.08365950887547 and b is 52.62430264091334\n",
      "Iteration 15, the loss is 3158.408944803084, parameters k is -13.326526419531731 and b is 52.7411409499782\n",
      "Iteration 16, the loss is 2684.032197573037, parameters k is -12.63141638404635 and b is 52.84822897312675\n",
      "Iteration 17, the loss is 2284.223253643977, parameters k is -11.993246328388311 and b is 52.94636579536499\n",
      "Iteration 18, the loss is 1947.2606026575215, parameters k is -11.407349759835585 and b is 53.03628501300522\n",
      "Iteration 19, the loss is 1663.2652694971982, parameters k is -10.869442626219762 and b is 53.11866010076585\n",
      "Iteration 20, the loss is 1423.9111812963138, parameters k is -10.375591973162704 and b is 53.19410933901272\n",
      "Iteration 21, the loss is 1222.1810626225188, parameters k is -9.922187169996889 and b is 53.263200337190256\n",
      "Iteration 22, the loss is 1052.1607021445025, parameters k is -9.505913493853997 and b is 53.3264541865367\n",
      "Iteration 23, the loss is 908.8655590659907, parameters k is -9.123727878659016 and b is 53.38434927246518\n",
      "Iteration 24, the loss is 788.0946257533295, parameters k is -8.772836651605864 and b is 53.43732477450259\n",
      "Iteration 25, the loss is 686.307262083539, parameters k is -8.450675094231304 and b is 53.485783879392415\n",
      "Iteration 26, the loss is 600.5193905271958, parameters k is -8.154888678552908 and b is 53.53009673086894\n",
      "Iteration 27, the loss is 528.2160086010522, parameters k is -7.883315840991859 and b is 53.570603137683946\n",
      "Iteration 28, the loss is 467.2774537198128, parameters k is -7.633972168052065 and b is 53.607615059698105\n",
      "Iteration 29, the loss is 415.91725867104367, parameters k is -7.405035878055635 and b is 53.641418890225786\n",
      "Iteration 30, the loss is 372.62977575249323, parameters k is -7.194834492716954 and b is 53.67227755133116\n",
      "Iteration 31, the loss is 336.14603400991393, parameters k is -7.001832601042591 and b is 53.70043241740519\n",
      "Iteration 32, the loss is 305.39653539252095, parameters k is -6.824620626035932 and b is 53.726105081096584\n",
      "Iteration 33, the loss is 279.47989907925955, parameters k is -6.661904512022049 and b is 53.74949897451664\n",
      "Iteration 34, the loss is 257.6364346864356, parameters k is -6.512496257143766 and b is 53.77080085757884\n",
      "Iteration 35, the loss is 239.22586957278506, parameters k is -6.37530522176324 and b is 53.790182184362195\n",
      "Iteration 36, the loss is 223.70857724842546, parameters k is -6.249330149180023 and b is 53.807800357494806\n",
      "Iteration 37, the loss is 210.62975653989486, parameters k is -6.133651840288007 and b is 53.82379987973494\n",
      "Iteration 38, the loss is 199.60609767411674, parameters k is -6.027426428577944 and b is 53.83831341117473\n",
      "Iteration 39, the loss is 190.31454435592312, parameters k is -5.9298792062844505 and b is 53.85146273980115\n",
      "Iteration 40, the loss is 182.4828223643641, parameters k is -5.8402989565086845 and b is 53.86335967251508\n",
      "Iteration 41, the loss is 175.8814569840324, parameters k is -5.7580327498496455 and b is 53.87410685312725\n",
      "Iteration 42, the loss is 170.31704523748903, parameters k is -5.682481167475495 and b is 53.883798513315625\n",
      "Iteration 43, the loss is 165.62658567328486, parameters k is -5.613093915686153 and b is 53.892521162038406\n",
      "Iteration 44, the loss is 161.6726994696145, parameters k is -5.549365799882682 and b is 53.900354218446466\n",
      "Iteration 45, the loss is 158.33960274533274, parameters k is -5.490833028488402 and b is 53.907370592925666\n",
      "Iteration 46, the loss is 155.52971199406835, parameters k is -5.437069819780684 and b is 53.91363722052013\n",
      "Iteration 47, the loss is 153.1607831191341, parameters k is -5.387685286808486 and b is 53.91921555063897\n",
      "Iteration 48, the loss is 151.163500191113, parameters k is -5.3423205776052365 and b is 53.92416199662932\n",
      "Iteration 49, the loss is 149.47944323502017, parameters k is -5.300646249774439 and b is 53.928528348504834\n",
      "Iteration 50, the loss is 148.05937546638506, parameters k is -5.262359860240056 and b is 53.932362151849084\n",
      "Iteration 51, the loss is 146.86179976122355, parameters k is -5.22718375252795 and b is 53.93570705566618\n",
      "Iteration 52, the loss is 145.85174203831852, parameters k is -5.194863025389791 and b is 53.938603131723355\n",
      "Iteration 53, the loss is 144.99972588485915, parameters k is -5.165163667907582 and b is 53.941087167722024\n",
      "Iteration 54, the loss is 144.28090836339172, parameters k is -5.137870847434951 and b is 53.94319293644207\n",
      "Iteration 55, the loss is 143.67435166356265, parameters k is -5.112787337849534 and b is 53.944951442828526\n",
      "Iteration 56, the loss is 143.16240924485155, parameters k is -5.089732076617308 and b is 53.94639115082842\n",
      "Iteration 57, the loss is 142.73020847315328, parameters k is -5.068538840112141 and b is 53.947538191637214\n",
      "Iteration 58, the loss is 142.36521458308727, parameters k is -5.049055027499005 and b is 53.948416554878555\n",
      "Iteration 59, the loss is 142.05686318222246, parameters k is -5.0311405442835495 and b is 53.94904826411592\n",
      "Iteration 60, the loss is 141.7962505229378, parameters k is -5.014666777359932 and b is 53.94945353798032\n",
      "Iteration 61, the loss is 141.5758724612692, parameters k is -4.99951565405819 and b is 53.949650938092795\n",
      "Iteration 62, the loss is 141.38940444950484, parameters k is -4.985578778307019 and b is 53.94965750486403\n",
      "Iteration 63, the loss is 141.23151611232794, parameters k is -4.972756637591974 and b is 53.94948888216452\n",
      "Iteration 64, the loss is 141.09771497022695, parameters k is -4.960957874907109 and b is 53.9491594317775\n",
      "Iteration 65, the loss is 140.98421472843532, parameters k is -4.95009862037352 and b is 53.94868233847186\n",
      "Iteration 66, the loss is 140.88782426988124, parameters k is -4.940101877634832 and b is 53.948069706463905\n",
      "Iteration 67, the loss is 140.80585409763245, parameters k is -4.930896960540392 and b is 53.94733264797361\n",
      "Iteration 68, the loss is 140.73603748389624, parameters k is -4.922418975994875 and b is 53.94648136452329\n",
      "Iteration 69, the loss is 140.67646401382058, parameters k is -4.914608349190735 and b is 53.94552522157344\n",
      "Iteration 70, the loss is 140.62552357572, parameters k is -4.907410387750054 and b is 53.9444728170419\n",
      "Iteration 71, the loss is 140.58185915562464, parameters k is -4.900774881586958 and b is 53.94333204420744\n",
      "Iteration 72, the loss is 140.54432705218184, parameters k is -4.894655735563163 and b is 53.94211014945822\n",
      "Iteration 73, the loss is 140.51196334547976, parameters k is -4.889010632249076 and b is 53.94081378530747\n",
      "Iteration 74, the loss is 140.48395563672787, parameters k is -4.8838007223231905 and b is 53.939449059064195\n",
      "Iteration 75, the loss is 140.45961923025024, parameters k is -4.878990340344663 and b is 53.93802157751526\n",
      "Iteration 76, the loss is 140.43837705949502, parameters k is -4.874546743819643 and b is 53.936536487945425\n",
      "Iteration 77, the loss is 140.41974276852804, parameters k is -4.870439873652315 and b is 53.934998515795684\n",
      "Iteration 78, the loss is 140.40330645298937, parameters k is -4.866642134228083 and b is 53.93341199923528\n",
      "Iteration 79, the loss is 140.38872264246902, parameters k is -4.863128191519942 and b is 53.931780920900444\n",
      "Iteration 80, the loss is 140.37570017196407, parameters k is -4.8598747877409725 and b is 53.93010893703192\n",
      "Iteration 81, the loss is 140.36399364546713, parameters k is -4.856860571186909 and b is 53.9283994042246\n",
      "Iteration 82, the loss is 140.35339624141713, parameters k is -4.854065940023894 and b is 53.92665540398488\n",
      "Iteration 83, the loss is 140.3437336490799, parameters k is -4.851472898878546 and b is 53.92487976527543\n",
      "Iteration 84, the loss is 140.3348589580853, parameters k is -4.849064927181131 and b is 53.92307508521229\n",
      "Iteration 85, the loss is 140.3266483512918, parameters k is -4.846826858298616 and b is 53.92124374806581\n",
      "Iteration 86, the loss is 140.31899747470018, parameters k is -4.8447447685733245 and b is 53.91938794270431\n",
      "Iteration 87, the loss is 140.31181837799116, parameters k is -4.8428058754553875 and b is 53.91750967860816\n",
      "Iteration 88, the loss is 140.30503693598658, parameters k is -4.8409984439837075 and b is 53.91561080057148\n",
      "Iteration 89, the loss is 140.29859067544015, parameters k is -4.839311700931237 and b is 53.91369300219891\n",
      "Iteration 90, the loss is 140.29242694343898, parameters k is -4.837735755986445 and b is 53.91175783829631\n",
      "Iteration 91, the loss is 140.28650136371883, parameters k is -4.836261529394333 and b is 53.909806736245926\n",
      "Iteration 92, the loss is 140.2807765356366, parameters k is -4.834880685527591 and b is 53.907841006449374\n",
      "Iteration 93, the loss is 140.27522093765273, parameters k is -4.833585571901913 and b is 53.905861851914715\n",
      "Iteration 94, the loss is 140.26980800318154, parameters k is -4.832369163189281 and b is 53.90387037705787\n",
      "Iteration 95, the loss is 140.2645153417067, parameters k is -4.831225009819624 and b is 53.90186759578269\n",
      "Iteration 96, the loss is 140.25932408233498, parameters k is -4.830147190794802 and b is 53.89985443889884\n",
      "Iteration 97, the loss is 140.25421832053715, parameters k is -4.829130270369706 and b is 53.897831760931744\n",
      "Iteration 98, the loss is 140.2491846518571, parameters k is -4.8281692582835385 and b is 53.895800346374436\n",
      "Iteration 99, the loss is 140.2442117789193, parameters k is -4.827259573250321 and b is 53.89376091542704\n",
      "Iteration 100, the loss is 140.23929018021047, parameters k is -4.82639700944153 and b is 53.89171412926585\n",
      "Iteration 101, the loss is 140.2344118309282, parameters k is -4.825577705715629 and b is 53.88966059488064\n",
      "Iteration 102, the loss is 140.22956996770742, parameters k is -4.824798117369382 and b is 53.88760086951545\n",
      "Iteration 103, the loss is 140.22475889033367, parameters k is -4.8240549902042815 and b is 53.885535464745544\n",
      "Iteration 104, the loss is 140.21997379462164, parameters k is -4.823345336718346 and b is 53.8834648502201\n",
      "Iteration 105, the loss is 140.21521063156743, parameters k is -4.822666414249115 and b is 53.88138945709831\n",
      "Iteration 106, the loss is 140.21046598863919, parameters k is -4.822015704907922 and b is 53.879309681203765\n",
      "Iteration 107, the loss is 140.20573698972782, parameters k is -4.821390897158648 and b is 53.87722588592041\n",
      "Iteration 108, the loss is 140.2010212108262, parameters k is -4.820789868906181 and b is 53.875138404851086\n",
      "Iteration 109, the loss is 140.19631660896178, parameters k is -4.820210671970854 and b is 53.873047544258256\n",
      "Iteration 110, the loss is 140.19162146229968, parameters k is -4.819651517835272 and b is 53.870953585304655\n",
      "Iteration 111, the loss is 140.18693431966395, parameters k is -4.819110764559256 and b is 53.86885678611035\n",
      "Iteration 112, the loss is 140.18225395799067, parameters k is -4.818586904767165 and b is 53.866757383641165\n",
      "Iteration 113, the loss is 140.17757934647148, parameters k is -4.818078554619713 and b is 53.864655595442386\n",
      "Iteration 114, the loss is 140.1729096163312, parameters k is -4.817584443689595 and b is 53.862551621230374\n",
      "Iteration 115, the loss is 140.16824403535864, parameters k is -4.817103405666857 and b is 53.860445644353696\n",
      "Iteration 116, the loss is 140.16358198643812, parameters k is -4.8166343698259935 and b is 53.85833783313458\n",
      "Iteration 117, the loss is 140.15892294945917, parameters k is -4.816176353192368 and b is 53.856228342100344\n",
      "Iteration 118, the loss is 140.15426648606729, parameters k is -4.815728453350623 and b is 53.85411731311401\n",
      "Iteration 119, the loss is 140.1496122268118, parameters k is -4.815289841842476 and b is 53.85200487641215\n",
      "Iteration 120, the loss is 140.14495986031557, parameters k is -4.814859758105598 and b is 53.84989115155777\n",
      "Iteration 121, the loss is 140.1403091241463, parameters k is -4.814437503909227 and b is 53.84777624831501\n",
      "Iteration 122, the loss is 140.13565979712146, parameters k is -4.814022438245809 and b is 53.845660267452246\n",
      "Iteration 123, the loss is 140.13101169282604, parameters k is -4.813613972641293 and b is 53.84354330147933\n",
      "Iteration 124, the loss is 140.12636465414624, parameters k is -4.81321156684977 and b is 53.84142543532439\n",
      "Iteration 125, the loss is 140.12171854866324, parameters k is -4.812814724900951 and b is 53.83930674695521\n",
      "Iteration 126, the loss is 140.11707326477233, parameters k is -4.812422991471582 and b is 53.83718730794965\n",
      "Iteration 127, the loss is 140.11242870841025, parameters k is -4.812035948554227 and b is 53.83506718401934\n",
      "Iteration 128, the loss is 140.1077848002981, parameters k is -4.811653212399068 and b is 53.832946435490435\n",
      "Iteration 129, the loss is 140.10314147361785, parameters k is -4.811274430706334 and b is 53.830825117744986\n",
      "Iteration 130, the loss is 140.09849867205224, parameters k is -4.810899280048827 and b is 53.828703281626126\n",
      "Iteration 131, the loss is 140.09385634813543, parameters k is -4.810527463505679 and b is 53.82658097381006\n",
      "Iteration 132, the loss is 140.08921446186147, parameters k is -4.810158708490039 and b is 53.82445823714756\n",
      "Iteration 133, the loss is 140.08457297951085, parameters k is -4.809792764754785 and b is 53.82233511097748\n",
      "Iteration 134, the loss is 140.079931872663, parameters k is -4.809429402561685 and b is 53.82021163141457\n",
      "Iteration 135, the loss is 140.07529111736346, parameters k is -4.809068411000595 and b is 53.818087831613724\n",
      "Iteration 136, the loss is 140.07065069342107, parameters k is -4.808709596446413 and b is 53.81596374201252\n",
      "Iteration 137, the loss is 140.06601058381722, parameters k is -4.808352781142487 and b is 53.81383939055395\n",
      "Iteration 138, the loss is 140.0613707742064, parameters k is -4.807997801900127 and b is 53.81171480289084\n",
      "Iteration 139, the loss is 140.0567312524971, parameters k is -4.8076445089046915 and b is 53.80959000257354\n",
      "Iteration 140, the loss is 140.05209200849652, parameters k is -4.807292764619521 and b is 53.80746501122227\n",
      "Iteration 141, the loss is 140.04745303361176, parameters k is -4.806942442779703 and b is 53.805339848685236\n",
      "Iteration 142, the loss is 140.04281432060026, parameters k is -4.8065934274683 and b is 53.80321453318391\n",
      "Iteration 143, the loss is 140.0381758633549, parameters k is -4.8062456122682855 and b is 53.801089081446335\n",
      "Iteration 144, the loss is 140.0335376567283, parameters k is -4.8058988994839815 and b is 53.7989635088295\n",
      "Iteration 145, the loss is 140.02889969637883, parameters k is -4.8055531994263045 and b is 53.79683782943173\n",
      "Iteration 146, the loss is 140.02426197864713, parameters k is -4.805208429756589 and b is 53.79471205619581\n",
      "Iteration 147, the loss is 140.0196245004465, parameters k is -4.804864514884185 and b is 53.79258620100372\n",
      "Iteration 148, the loss is 140.01498725917426, parameters k is -4.804521385413429 and b is 53.790460274763554\n",
      "Iteration 149, the loss is 140.0103502526351, parameters k is -4.804178977635937 and b is 53.78833428748932\n",
      "Iteration 150, the loss is 140.0057134789766, parameters k is -4.803837233064502 and b is 53.78620824837425\n",
      "Iteration 151, the loss is 140.0010769366365, parameters k is -4.803496098005198 and b is 53.78408216585804\n",
      "Iteration 152, the loss is 139.99644062429596, parameters k is -4.8031555231645475 and b is 53.78195604768861\n",
      "Iteration 153, the loss is 139.991804540842, parameters k is -4.802815463288884 and b is 53.77982990097881\n",
      "Iteration 154, the loss is 139.9871686853351, parameters k is -4.802475876833273 and b is 53.77770373225845\n",
      "Iteration 155, the loss is 139.98253305698123, parameters k is -4.802136725657561 and b is 53.775577547522104\n",
      "Iteration 156, the loss is 139.9778976551099, parameters k is -4.80179797474734 and b is 53.77345135227294\n",
      "Iteration 157, the loss is 139.9732624791539, parameters k is -4.801459591957779 and b is 53.77132515156305\n",
      "Iteration 158, the loss is 139.96862752863427, parameters k is -4.801121547778448 and b is 53.76919895003034\n",
      "Iteration 159, the loss is 139.9639928031448, parameters k is -4.8007838151174145 and b is 53.767072751932545\n",
      "Iteration 160, the loss is 139.95935830234214, parameters k is -4.800446369103041 and b is 53.76494656117836\n",
      "Iteration 161, the loss is 139.95472402593424, parameters k is -4.800109186902018 and b is 53.762820381356036\n",
      "Iteration 162, the loss is 139.95008997367486, parameters k is -4.799772247552317 and b is 53.76069421575964\n",
      "Iteration 163, the loss is 139.9454561453533, parameters k is -4.799435531809826 and b is 53.758568067413194\n",
      "Iteration 164, the loss is 139.940822540791, parameters k is -4.799099022007561 and b is 53.75644193909277\n",
      "Iteration 165, the loss is 139.9361891598357, parameters k is -4.798762701926415 and b is 53.75431583334683\n",
      "Iteration 166, the loss is 139.93155600235724, parameters k is -4.798426556676492 and b is 53.752189752514894\n",
      "Iteration 167, the loss is 139.92692306824432, parameters k is -4.798090572588179 and b is 53.750063698744626\n",
      "Iteration 168, the loss is 139.92229035740158, parameters k is -4.7977547371121325 and b is 53.74793767400759\n",
      "Iteration 169, the loss is 139.91765786974676, parameters k is -4.7974190387274716 and b is 53.74581168011366\n",
      "Iteration 170, the loss is 139.91302560520882, parameters k is -4.7970834668574875 and b is 53.7436857187243\n",
      "Iteration 171, the loss is 139.90839356372663, parameters k is -4.796748011792267 and b is 53.74155979136469\n",
      "Iteration 172, the loss is 139.90376174524664, parameters k is -4.79641266461765 and b is 53.73943389943493\n",
      "Iteration 173, the loss is 139.89913014972154, parameters k is -4.79607741715002 and b is 53.73730804422025\n",
      "Iteration 174, the loss is 139.8944987771109, parameters k is -4.795742261876429 and b is 53.73518222690048\n",
      "Iteration 175, the loss is 139.88986762737804, parameters k is -4.795407191899633 and b is 53.73305644855863\n",
      "Iteration 176, the loss is 139.88523670049088, parameters k is -4.795072200887634 and b is 53.730930710188865\n",
      "Iteration 177, the loss is 139.88060599642054, parameters k is -4.794737283027353 and b is 53.72880501270377\n",
      "Iteration 178, the loss is 139.8759755151407, parameters k is -4.794402432982106 and b is 53.72667935694105\n",
      "Iteration 179, the loss is 139.87134525662802, parameters k is -4.794067645852557 and b is 53.72455374366963\n",
      "Iteration 180, the loss is 139.8667152208606, parameters k is -4.793732917140879 and b is 53.72242817359535\n",
      "Iteration 181, the loss is 139.86208540781882, parameters k is -4.793398242717846 and b is 53.72030264736606\n",
      "Iteration 182, the loss is 139.8574558174842, parameters k is -4.793063618792623 and b is 53.71817716557646\n",
      "Iteration 183, the loss is 139.8528264498392, parameters k is -4.792729041885041 and b is 53.71605172877239\n",
      "Iteration 184, the loss is 139.8481973048683, parameters k is -4.792394508800125 and b is 53.71392633745485\n",
      "Iteration 185, the loss is 139.84356838255536, parameters k is -4.792060016604732 and b is 53.71180099208368\n",
      "Iteration 186, the loss is 139.83893968288643, parameters k is -4.791725562606084 and b is 53.70967569308095\n",
      "Iteration 187, the loss is 139.83431120584729, parameters k is -4.791391144332074 and b is 53.70755044083403\n",
      "Iteration 188, the loss is 139.82968295142413, parameters k is -4.791056759513181 and b is 53.70542523569842\n",
      "Iteration 189, the loss is 139.82505491960407, parameters k is -4.790722406065865 and b is 53.703300078000424\n",
      "Iteration 190, the loss is 139.8204271103749, parameters k is -4.790388082077325 and b is 53.70117496803948\n",
      "Iteration 191, the loss is 139.81579952372363, parameters k is -4.790053785791507 and b is 53.69904990609039\n",
      "Iteration 192, the loss is 139.81117215963857, parameters k is -4.78971951559626 and b is 53.69692489240533\n",
      "Iteration 193, the loss is 139.8065450181075, parameters k is -4.789385270011539 and b is 53.69479992721571\n",
      "Iteration 194, the loss is 139.8019180991192, parameters k is -4.789051047678578 and b is 53.692675010733886\n",
      "Iteration 195, the loss is 139.79729140266178, parameters k is -4.7887168473499555 and b is 53.69055014315469\n",
      "Iteration 196, the loss is 139.79266492872375, parameters k is -4.788382667880464 and b is 53.68842532465689\n",
      "Iteration 197, the loss is 139.78803867729425, parameters k is -4.788048508218736 and b is 53.68630055540452\n",
      "Iteration 198, the loss is 139.78341264836158, parameters k is -4.787714367399552 and b is 53.684175835548054\n",
      "Iteration 199, the loss is 139.77878684191478, parameters k is -4.787380244536781 and b is 53.68205116522553\n"
     ]
    }
   ],
   "source": [
    "k = random.random() * 200 - 100  \n",
    "b = random.random() * 200 - 100  \n",
    "\n",
    "learning_rate = 1e-3\n",
    "\n",
    "iteration_num = 200 \n",
    "losses = []\n",
    "for i in range(iteration_num):\n",
    "    \n",
    "    price_use_current_parameters = [price(r, k, b) for r in X_rm] \n",
    "    \n",
    "    current_loss = loss(y, price_use_current_parameters)\n",
    "    losses.append(current_loss)\n",
    "    print(\"Iteration {}, the loss is {}, parameters k is {} and b is {}\".format(i,current_loss,k,b))\n",
    "    \n",
    "    k_gradient = partial_derivative_k(X_rm, y, price_use_current_parameters)\n",
    "    b_gradient = partial_derivative_b(y, price_use_current_parameters)\n",
    "    \n",
    "    k = k + (-1 * k_gradient) * learning_rate\n",
    "    b = b + (-1 * b_gradient) * learning_rate\n",
    "best_k = k\n",
    "best_b = b"
   ]
  },
  {
   "cell_type": "code",
   "execution_count": 196,
   "metadata": {},
   "outputs": [
    {
     "data": {
      "text/plain": [
       "[<matplotlib.lines.Line2D at 0x276209c6488>]"
      ]
     },
     "execution_count": 196,
     "metadata": {},
     "output_type": "execute_result"
    },
    {
     "data": {
      "image/png": "[encoded data removed]",
      "text/plain": [
       "<Figure size 432x288 with 1 Axes>"
      ]
     },
     "metadata": {
      "needs_background": "light"
     },
     "output_type": "display_data"
    }
   ],
   "source": [
    "plt.plot(list(range(iteration_num)),losses)"
   ]
  },
  {
   "cell_type": "code",
   "execution_count": null,
   "metadata": {},
   "outputs": [],
   "source": []
  },
  {
   "cell_type": "code",
   "execution_count": null,
   "metadata": {},
   "outputs": [],
   "source": []
  }
 ],
 "metadata": {
  "kernelspec": {
   "display_name": "Python 3",
   "language": "python",
   "name": "python3"
  },
  "language_info": {
   "codemirror_mode": {
    "name": "ipython",
    "version": 3
   },
   "file_extension": ".py",
   "mimetype": "text/x-python",
   "name": "python",
   "nbconvert_exporter": "python",
   "pygments_lexer": "ipython3",
   "version": "3.7.4"
  }
 },
 "nbformat": 4,
 "nbformat_minor": 2
}
